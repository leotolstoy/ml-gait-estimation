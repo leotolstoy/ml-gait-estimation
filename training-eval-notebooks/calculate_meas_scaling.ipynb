{
 "cells": [
  {
   "cell_type": "code",
   "execution_count": 1,
   "id": "f9426a2c-9395-4a3f-bc65-f478075a02b5",
   "metadata": {},
   "outputs": [
    {
     "name": "stdout",
     "output_type": "stream",
     "text": [
      "   foot_angle  foot_vel_angle  shank_angle  shank_vel_angle  heel_acc_forward  \\\n",
      "0    9.713109     -122.000000     6.810365       -54.155000          0.000000   \n",
      "1    7.928249     -133.739183     5.993880       -61.785706         -3.391320   \n",
      "2    7.120444     -147.077747     5.606053       -70.516308         -7.078094   \n",
      "3    5.217823     -162.450106     4.621966       -84.205665         -3.548601   \n",
      "4    3.440199     -167.100286     3.626258       -93.718654         -1.555049   \n",
      "\n",
      "   heel_acc_upward     phase  speed  incline  is_stairs  is_moving  \\\n",
      "0         0.000000  0.000968    0.8    -10.0        0.0        1.0   \n",
      "1         2.057084  0.013282    0.8    -10.0        0.0        1.0   \n",
      "2         4.304541  0.018221    0.8    -10.0        0.0        1.0   \n",
      "3         2.657375  0.028783    0.8    -10.0        0.0        1.0   \n",
      "4         1.422208  0.038366    0.8    -10.0        0.0        1.0   \n",
      "\n",
      "   stride_count  HSDetected  subj_id        dt      time  \n",
      "0             1           1        1  0.011075  0.011075  \n",
      "1             1           0        1  0.013668  0.024743  \n",
      "2             1           0        1  0.005482  0.030225  \n",
      "3             1           0        1  0.011724  0.041950  \n",
      "4             1           0        1  0.010638  0.052587  \n"
     ]
    }
   ],
   "source": [
    "\"\"\"This script calculates the 95th percentiles for the distributions of kinematics data\n",
    "This is used to scale the kinematics data to 0 and 1 to improve convergence during training\n",
    "\"\"\"\n",
    "import numpy as np\n",
    "import pandas as pd\n",
    "\n",
    "#read data\n",
    "filename_dataport_ordered = 'dataport_ordered_corrupt_time.csv'\n",
    "filename_dataport_randomized = 'dataport_randomized_corrupt_time.csv'\n",
    "filename_r01_ordered = 'r01_ordered_corrupt_time.csv'\n",
    "filename_r01_randomized = 'r01_randomized_corrupt_time.csv'\n",
    "\n",
    "\n",
    "gait_data_r01_randomized = pd.read_csv(filename_r01_randomized)\n",
    "gait_data_r01_ordered = pd.read_csv(filename_r01_ordered)\n",
    "gait_data_dataport_ordered = pd.read_csv(filename_dataport_ordered)\n",
    "gait_data_dataport_randomized = pd.read_csv(filename_dataport_randomized)\n",
    "\n",
    "#aggregate dataframes\n",
    "gait_data = pd.concat([gait_data_r01_ordered, gait_data_r01_randomized,\\\n",
    "                          gait_data_dataport_ordered, gait_data_dataport_randomized])\n",
    "\n",
    "print(gait_data.head())"
   ]
  },
  {
   "cell_type": "code",
   "execution_count": 2,
   "id": "34f95464-b617-48ae-8702-54ff48a4e1b6",
   "metadata": {},
   "outputs": [
    {
     "name": "stdout",
     "output_type": "stream",
     "text": [
      "9285034\n"
     ]
    }
   ],
   "source": [
    "print(len(gait_data))"
   ]
  },
  {
   "cell_type": "code",
   "execution_count": 4,
   "id": "123b8664-8ff0-4993-a57c-6c4147a06fd5",
   "metadata": {},
   "outputs": [],
   "source": [
    "foot_angle = gait_data['foot_angle'].to_numpy()\n",
    "foot_vel_angle = gait_data['foot_vel_angle'].to_numpy()\n",
    "shank_angle = gait_data['shank_angle'].to_numpy()\n",
    "shank_vel_angle = gait_data['shank_vel_angle'].to_numpy()\n",
    "heel_acc_forward = gait_data['heel_acc_forward'].to_numpy()\n",
    "heel_acc_upward = gait_data['heel_acc_upward'].to_numpy()"
   ]
  },
  {
   "cell_type": "code",
   "execution_count": 5,
   "id": "2a93b75d-bf51-42f6-a204-00ffef20a6b9",
   "metadata": {},
   "outputs": [
    {
     "name": "stdout",
     "output_type": "stream",
     "text": [
      "[-69.35951035  27.62815047]\n",
      "[-456.18013759  401.13782617]\n",
      "[-63.71649984  22.06632622]\n",
      "[-213.4786175   396.93801619]\n",
      "[-35.26603985  20.78473636]\n",
      "[-20.95456523  14.63961137]\n"
     ]
    }
   ],
   "source": [
    "# calculate the percentiles for the kinematics\n",
    "foot_angle_range = np.quantile(foot_angle, [0.01,0.99])\n",
    "print(foot_angle_range)\n",
    "foot_vel_angle_range = np.quantile(foot_vel_angle, [0.01,0.99])\n",
    "print(foot_vel_angle_range)\n",
    "shank_angle_range = np.quantile(shank_angle, [0.01,0.99])\n",
    "print(shank_angle_range)\n",
    "shank_vel_angle_range = np.quantile(shank_vel_angle, [0.01,0.99])\n",
    "print(shank_vel_angle_range)\n",
    "heel_acc_forward = np.quantile(heel_acc_forward, [0.01,0.99])\n",
    "print(heel_acc_forward)\n",
    "heel_acc_upward = np.quantile(heel_acc_upward, [0.01,0.99])\n",
    "print(heel_acc_upward)"
   ]
  },
  {
   "cell_type": "code",
   "execution_count": 44,
   "id": "580b5d4c-d6d3-4c95-b7cf-9a91bb59b12b",
   "metadata": {},
   "outputs": [
    {
     "data": {
      "text/plain": [
       "(array([0.000000e+00, 0.000000e+00, 6.000000e+00, 7.000000e+00,\n",
       "        6.000000e+00, 6.000000e+00, 9.000000e+00, 1.800000e+01,\n",
       "        2.500000e+01, 3.200000e+01, 3.500000e+01, 8.700000e+01,\n",
       "        1.640000e+02, 9.220000e+02, 1.221600e+04, 1.578260e+05,\n",
       "        7.726520e+05, 1.496870e+06, 1.933292e+06, 2.119914e+06,\n",
       "        5.216380e+05, 2.435000e+05, 2.568340e+05, 2.921620e+05,\n",
       "        3.531920e+05, 4.197110e+05, 3.838390e+05, 2.363740e+05,\n",
       "        7.322000e+04, 9.344000e+03, 6.400000e+02, 7.100000e+01,\n",
       "        4.400000e+01, 3.400000e+01, 3.200000e+01, 2.600000e+01,\n",
       "        2.200000e+01, 2.000000e+01, 1.000000e+01]),\n",
       " array([-1000,  -950,  -900,  -850,  -800,  -750,  -700,  -650,  -600,\n",
       "         -550,  -500,  -450,  -400,  -350,  -300,  -250,  -200,  -150,\n",
       "         -100,   -50,     0,    50,   100,   150,   200,   250,   300,\n",
       "          350,   400,   450,   500,   550,   600,   650,   700,   750,\n",
       "          800,   850,   900,   950]),\n",
       " <BarContainer object of 39 artists>)"
      ]
     },
     "execution_count": 44,
     "metadata": {},
     "output_type": "execute_result"
    },
    {
     "data": {
      "image/png": "[encoded data removed]",
      "text/plain": [
       "<Figure size 640x480 with 2 Axes>"
      ]
     },
     "metadata": {},
     "output_type": "display_data"
    }
   ],
   "source": [
    "import matplotlib.pyplot as plt\n",
    "\n",
    "fig, axs = plt.subplots(2,1)\n",
    "axs[0].hist(foot_angle,bins=range(-100,100,10))\n",
    "axs[0].hist(shank_angle,bins=range(-100,100,10))\n",
    "\n",
    "axs[1].hist(foot_vel_angle,bins=range(-1000,1000,50))\n",
    "axs[1].hist(shank_vel_angle,bins=range(-1000,1000,50))"
   ]
  },
  {
   "cell_type": "code",
   "execution_count": 45,
   "id": "60f1cabd-eb9d-4262-90fd-eb7c0ccdc42a",
   "metadata": {},
   "outputs": [
    {
     "name": "stdout",
     "output_type": "stream",
     "text": [
      "0.09425519318401476\n",
      "0.9240052995593389\n"
     ]
    },
    {
     "data": {
      "text/plain": [
       "(array([1.00000e+00, 2.00000e+00, 2.00000e+00, 1.00000e+00, 0.00000e+00,\n",
       "        2.00000e+00, 1.00000e+00, 0.00000e+00, 1.00000e+00, 1.00000e+00,\n",
       "        0.00000e+00, 1.00000e+00, 1.00000e+00, 2.00000e+00, 0.00000e+00,\n",
       "        0.00000e+00, 0.00000e+00, 0.00000e+00, 2.00000e+00, 1.00000e+00,\n",
       "        2.00000e+00, 1.00000e+00, 0.00000e+00, 1.00000e+00, 2.00000e+00,\n",
       "        0.00000e+00, 1.00000e+00, 1.00000e+00, 2.00000e+00, 1.00000e+00,\n",
       "        3.00000e+00, 1.00000e+00, 2.00000e+00, 2.00000e+00, 5.00000e+00,\n",
       "        2.00000e+00, 2.00000e+00, 2.00000e+00, 2.00000e+00, 5.00000e+00,\n",
       "        4.00000e+00, 1.00000e+00, 2.00000e+00, 8.00000e+00, 0.00000e+00,\n",
       "        4.00000e+00, 4.00000e+00, 2.00000e+00, 3.00000e+00, 5.00000e+00,\n",
       "        6.00000e+00, 3.00000e+00, 5.00000e+00, 2.00000e+00, 7.00000e+00,\n",
       "        3.00000e+00, 7.00000e+00, 1.00000e+00, 6.00000e+00, 6.00000e+00,\n",
       "        2.00000e+00, 6.00000e+00, 9.00000e+00, 9.00000e+00, 1.10000e+01,\n",
       "        1.40000e+01, 4.00000e+00, 2.20000e+01, 8.00000e+00, 9.00000e+00,\n",
       "        8.00000e+00, 1.60000e+01, 1.90000e+01, 2.10000e+01, 2.60000e+01,\n",
       "        1.80000e+01, 3.10000e+01, 3.60000e+01, 4.30000e+01, 4.00000e+01,\n",
       "        5.70000e+01, 8.30000e+01, 1.15000e+02, 1.70000e+02, 1.97000e+02,\n",
       "        2.57000e+02, 3.26000e+02, 4.22000e+02, 6.08000e+02, 9.23000e+02,\n",
       "        1.26000e+03, 1.95800e+03, 2.73700e+03, 3.86100e+03, 5.40400e+03,\n",
       "        7.37400e+03, 1.03080e+04, 1.36210e+04, 1.88560e+04, 2.37110e+04,\n",
       "        3.10650e+04, 3.84250e+04, 4.74610e+04, 5.81130e+04, 6.91460e+04,\n",
       "        8.15170e+04, 9.62270e+04, 1.09352e+05, 1.24533e+05, 1.37205e+05,\n",
       "        1.50040e+05, 1.62347e+05, 1.71284e+05, 1.79995e+05, 1.87033e+05,\n",
       "        1.91099e+05, 1.95571e+05, 1.99144e+05, 2.01353e+05, 2.03847e+05,\n",
       "        2.07272e+05, 2.13647e+05, 2.23681e+05, 2.39764e+05, 2.57706e+05,\n",
       "        2.76494e+05, 2.93841e+05, 3.05037e+05, 3.00084e+05, 2.93231e+05,\n",
       "        2.80889e+05, 2.51150e+05, 2.10535e+05, 1.81176e+05, 2.47048e+05,\n",
       "        1.79596e+05, 7.79000e+04, 5.65040e+04, 4.60750e+04, 3.95930e+04,\n",
       "        3.62590e+04, 3.35470e+04, 3.19590e+04, 3.10920e+04, 3.02040e+04,\n",
       "        2.96930e+04, 2.95800e+04, 2.94160e+04, 2.93840e+04, 2.92940e+04,\n",
       "        2.95850e+04, 2.98220e+04, 3.03270e+04, 3.08110e+04, 3.06530e+04,\n",
       "        3.13740e+04, 3.14720e+04, 3.20990e+04, 3.26620e+04, 3.29540e+04,\n",
       "        3.37960e+04, 3.42670e+04, 3.48220e+04, 3.52810e+04, 3.58280e+04,\n",
       "        3.71540e+04, 3.77930e+04, 3.83410e+04, 3.96300e+04, 4.04810e+04,\n",
       "        4.17090e+04, 4.23850e+04, 4.39680e+04, 4.48260e+04, 4.62490e+04,\n",
       "        4.73730e+04, 4.87050e+04, 4.98640e+04, 5.03910e+04, 5.11960e+04,\n",
       "        5.20920e+04, 5.26010e+04, 5.27040e+04, 5.25530e+04, 5.19820e+04,\n",
       "        5.08370e+04, 4.95660e+04, 4.84160e+04, 4.73570e+04, 4.52060e+04,\n",
       "        4.29710e+04, 4.13770e+04, 3.86360e+04, 3.64230e+04, 3.40890e+04,\n",
       "        3.13700e+04, 2.87240e+04, 2.63660e+04, 2.33780e+04, 2.04580e+04,\n",
       "        1.76010e+04, 1.49490e+04, 1.24650e+04, 1.02790e+04, 8.39400e+03,\n",
       "        6.63900e+03, 5.39700e+03, 4.35700e+03, 3.31800e+03, 2.39700e+03,\n",
       "        1.69900e+03, 1.23200e+03, 9.95000e+02, 7.82000e+02, 6.07000e+02,\n",
       "        4.43000e+02, 3.14000e+02, 2.30000e+02, 1.54000e+02, 7.40000e+01,\n",
       "        6.10000e+01, 3.30000e+01, 1.70000e+01, 1.40000e+01, 1.60000e+01,\n",
       "        1.30000e+01, 1.50000e+01, 9.00000e+00, 8.00000e+00, 9.00000e+00,\n",
       "        5.00000e+00, 8.00000e+00, 4.00000e+00, 5.00000e+00, 1.10000e+01,\n",
       "        9.00000e+00, 7.00000e+00, 1.00000e+00, 4.00000e+00, 5.00000e+00,\n",
       "        2.00000e+00, 2.00000e+00, 7.00000e+00, 2.00000e+00, 2.00000e+00,\n",
       "        4.00000e+00, 3.00000e+00, 8.00000e+00, 2.00000e+00, 7.00000e+00,\n",
       "        4.00000e+00, 5.00000e+00, 5.00000e+00, 3.00000e+00, 3.00000e+00,\n",
       "        2.00000e+00, 4.00000e+00, 5.00000e+00, 3.00000e+00, 6.00000e+00,\n",
       "        3.00000e+00, 1.00000e+00, 1.00000e+00, 3.00000e+00, 5.00000e+00,\n",
       "        3.00000e+00, 3.00000e+00, 4.00000e+00, 3.00000e+00, 2.00000e+00,\n",
       "        5.00000e+00, 1.00000e+00, 1.00000e+00, 3.00000e+00, 3.00000e+00,\n",
       "        2.00000e+00, 2.00000e+00, 1.00000e+00, 6.00000e+00, 3.00000e+00,\n",
       "        1.00000e+00, 1.00000e+00, 2.00000e+00, 1.00000e+00, 3.00000e+00,\n",
       "        0.00000e+00, 2.00000e+00, 2.00000e+00, 0.00000e+00, 1.00000e+00,\n",
       "        0.00000e+00, 2.00000e+00, 1.00000e+00, 0.00000e+00, 5.00000e+00,\n",
       "        1.00000e+00, 0.00000e+00, 0.00000e+00, 1.00000e+00]),\n",
       " array([-1.0000000e+00, -9.9000000e-01, -9.8000000e-01, -9.7000000e-01,\n",
       "        -9.6000000e-01, -9.5000000e-01, -9.4000000e-01, -9.3000000e-01,\n",
       "        -9.2000000e-01, -9.1000000e-01, -9.0000000e-01, -8.9000000e-01,\n",
       "        -8.8000000e-01, -8.7000000e-01, -8.6000000e-01, -8.5000000e-01,\n",
       "        -8.4000000e-01, -8.3000000e-01, -8.2000000e-01, -8.1000000e-01,\n",
       "        -8.0000000e-01, -7.9000000e-01, -7.8000000e-01, -7.7000000e-01,\n",
       "        -7.6000000e-01, -7.5000000e-01, -7.4000000e-01, -7.3000000e-01,\n",
       "        -7.2000000e-01, -7.1000000e-01, -7.0000000e-01, -6.9000000e-01,\n",
       "        -6.8000000e-01, -6.7000000e-01, -6.6000000e-01, -6.5000000e-01,\n",
       "        -6.4000000e-01, -6.3000000e-01, -6.2000000e-01, -6.1000000e-01,\n",
       "        -6.0000000e-01, -5.9000000e-01, -5.8000000e-01, -5.7000000e-01,\n",
       "        -5.6000000e-01, -5.5000000e-01, -5.4000000e-01, -5.3000000e-01,\n",
       "        -5.2000000e-01, -5.1000000e-01, -5.0000000e-01, -4.9000000e-01,\n",
       "        -4.8000000e-01, -4.7000000e-01, -4.6000000e-01, -4.5000000e-01,\n",
       "        -4.4000000e-01, -4.3000000e-01, -4.2000000e-01, -4.1000000e-01,\n",
       "        -4.0000000e-01, -3.9000000e-01, -3.8000000e-01, -3.7000000e-01,\n",
       "        -3.6000000e-01, -3.5000000e-01, -3.4000000e-01, -3.3000000e-01,\n",
       "        -3.2000000e-01, -3.1000000e-01, -3.0000000e-01, -2.9000000e-01,\n",
       "        -2.8000000e-01, -2.7000000e-01, -2.6000000e-01, -2.5000000e-01,\n",
       "        -2.4000000e-01, -2.3000000e-01, -2.2000000e-01, -2.1000000e-01,\n",
       "        -2.0000000e-01, -1.9000000e-01, -1.8000000e-01, -1.7000000e-01,\n",
       "        -1.6000000e-01, -1.5000000e-01, -1.4000000e-01, -1.3000000e-01,\n",
       "        -1.2000000e-01, -1.1000000e-01, -1.0000000e-01, -9.0000000e-02,\n",
       "        -8.0000000e-02, -7.0000000e-02, -6.0000000e-02, -5.0000000e-02,\n",
       "        -4.0000000e-02, -3.0000000e-02, -2.0000000e-02, -1.0000000e-02,\n",
       "         8.8817842e-16,  1.0000000e-02,  2.0000000e-02,  3.0000000e-02,\n",
       "         4.0000000e-02,  5.0000000e-02,  6.0000000e-02,  7.0000000e-02,\n",
       "         8.0000000e-02,  9.0000000e-02,  1.0000000e-01,  1.1000000e-01,\n",
       "         1.2000000e-01,  1.3000000e-01,  1.4000000e-01,  1.5000000e-01,\n",
       "         1.6000000e-01,  1.7000000e-01,  1.8000000e-01,  1.9000000e-01,\n",
       "         2.0000000e-01,  2.1000000e-01,  2.2000000e-01,  2.3000000e-01,\n",
       "         2.4000000e-01,  2.5000000e-01,  2.6000000e-01,  2.7000000e-01,\n",
       "         2.8000000e-01,  2.9000000e-01,  3.0000000e-01,  3.1000000e-01,\n",
       "         3.2000000e-01,  3.3000000e-01,  3.4000000e-01,  3.5000000e-01,\n",
       "         3.6000000e-01,  3.7000000e-01,  3.8000000e-01,  3.9000000e-01,\n",
       "         4.0000000e-01,  4.1000000e-01,  4.2000000e-01,  4.3000000e-01,\n",
       "         4.4000000e-01,  4.5000000e-01,  4.6000000e-01,  4.7000000e-01,\n",
       "         4.8000000e-01,  4.9000000e-01,  5.0000000e-01,  5.1000000e-01,\n",
       "         5.2000000e-01,  5.3000000e-01,  5.4000000e-01,  5.5000000e-01,\n",
       "         5.6000000e-01,  5.7000000e-01,  5.8000000e-01,  5.9000000e-01,\n",
       "         6.0000000e-01,  6.1000000e-01,  6.2000000e-01,  6.3000000e-01,\n",
       "         6.4000000e-01,  6.5000000e-01,  6.6000000e-01,  6.7000000e-01,\n",
       "         6.8000000e-01,  6.9000000e-01,  7.0000000e-01,  7.1000000e-01,\n",
       "         7.2000000e-01,  7.3000000e-01,  7.4000000e-01,  7.5000000e-01,\n",
       "         7.6000000e-01,  7.7000000e-01,  7.8000000e-01,  7.9000000e-01,\n",
       "         8.0000000e-01,  8.1000000e-01,  8.2000000e-01,  8.3000000e-01,\n",
       "         8.4000000e-01,  8.5000000e-01,  8.6000000e-01,  8.7000000e-01,\n",
       "         8.8000000e-01,  8.9000000e-01,  9.0000000e-01,  9.1000000e-01,\n",
       "         9.2000000e-01,  9.3000000e-01,  9.4000000e-01,  9.5000000e-01,\n",
       "         9.6000000e-01,  9.7000000e-01,  9.8000000e-01,  9.9000000e-01,\n",
       "         1.0000000e+00,  1.0100000e+00,  1.0200000e+00,  1.0300000e+00,\n",
       "         1.0400000e+00,  1.0500000e+00,  1.0600000e+00,  1.0700000e+00,\n",
       "         1.0800000e+00,  1.0900000e+00,  1.1000000e+00,  1.1100000e+00,\n",
       "         1.1200000e+00,  1.1300000e+00,  1.1400000e+00,  1.1500000e+00,\n",
       "         1.1600000e+00,  1.1700000e+00,  1.1800000e+00,  1.1900000e+00,\n",
       "         1.2000000e+00,  1.2100000e+00,  1.2200000e+00,  1.2300000e+00,\n",
       "         1.2400000e+00,  1.2500000e+00,  1.2600000e+00,  1.2700000e+00,\n",
       "         1.2800000e+00,  1.2900000e+00,  1.3000000e+00,  1.3100000e+00,\n",
       "         1.3200000e+00,  1.3300000e+00,  1.3400000e+00,  1.3500000e+00,\n",
       "         1.3600000e+00,  1.3700000e+00,  1.3800000e+00,  1.3900000e+00,\n",
       "         1.4000000e+00,  1.4100000e+00,  1.4200000e+00,  1.4300000e+00,\n",
       "         1.4400000e+00,  1.4500000e+00,  1.4600000e+00,  1.4700000e+00,\n",
       "         1.4800000e+00,  1.4900000e+00,  1.5000000e+00,  1.5100000e+00,\n",
       "         1.5200000e+00,  1.5300000e+00,  1.5400000e+00,  1.5500000e+00,\n",
       "         1.5600000e+00,  1.5700000e+00,  1.5800000e+00,  1.5900000e+00,\n",
       "         1.6000000e+00,  1.6100000e+00,  1.6200000e+00,  1.6300000e+00,\n",
       "         1.6400000e+00,  1.6500000e+00,  1.6600000e+00,  1.6700000e+00,\n",
       "         1.6800000e+00,  1.6900000e+00,  1.7000000e+00,  1.7100000e+00,\n",
       "         1.7200000e+00,  1.7300000e+00,  1.7400000e+00,  1.7500000e+00,\n",
       "         1.7600000e+00,  1.7700000e+00,  1.7800000e+00,  1.7900000e+00,\n",
       "         1.8000000e+00,  1.8100000e+00,  1.8200000e+00,  1.8300000e+00,\n",
       "         1.8400000e+00,  1.8500000e+00,  1.8600000e+00,  1.8700000e+00,\n",
       "         1.8800000e+00,  1.8900000e+00,  1.9000000e+00,  1.9100000e+00,\n",
       "         1.9200000e+00,  1.9300000e+00,  1.9400000e+00,  1.9500000e+00,\n",
       "         1.9600000e+00,  1.9700000e+00,  1.9800000e+00,  1.9900000e+00]),\n",
       " <BarContainer object of 299 artists>)"
      ]
     },
     "execution_count": 45,
     "metadata": {},
     "output_type": "execute_result"
    },
    {
     "data": {
      "image/png": "[encoded data removed]",
      "text/plain": [
       "<Figure size 640x480 with 2 Axes>"
      ]
     },
     "metadata": {},
     "output_type": "display_data"
    }
   ],
   "source": [
    "foot_angle_scale = (1 - 0)/(foot_angle_range[1] - foot_angle_range[0]) * ( foot_angle - foot_angle_range[0])\n",
    "foot_vel_angle_scale = (1 - 0)/(foot_vel_angle_range[1] - foot_vel_angle_range[0]) * ( foot_vel_angle - foot_vel_angle_range[0])\n",
    "\n",
    "shank_angle_scale = (1 - 0)/(shank_angle_range[1] - shank_angle_range[0]) * ( shank_angle - shank_angle_range[0])\n",
    "shank_vel_angle_scale = (1 - 0)/(shank_vel_angle_range[1] - shank_vel_angle_range[0]) * ( shank_vel_angle - shank_vel_angle_range[0])\n",
    "foot_angle_range = np.quantile(foot_angle_scale, [0.01,0.99])\n",
    "print(foot_angle_range[0])\n",
    "print(foot_angle_range[1])\n",
    "\n",
    "fig, axs = plt.subplots(2,1)\n",
    "axs[0].hist(foot_angle_scale,bins=np.arange(-1,2,0.01))\n",
    "axs[0].hist(shank_angle_scale,bins=np.arange(-1,2,0.01))\n",
    "\n",
    "axs[1].hist(foot_vel_angle_scale,bins=np.arange(-1,2,0.01))\n",
    "axs[1].hist(shank_vel_angle_scale,bins=np.arange(-1,2,0.01))\n",
    "\n"
   ]
  },
  {
   "cell_type": "code",
   "execution_count": null,
   "id": "8c32bd11-f80e-4f68-bdec-b69cef47247a",
   "metadata": {},
   "outputs": [],
   "source": []
  }
 ],
 "metadata": {
  "environment": {
   "kernel": "python3",
   "name": "pytorch-gpu.1-12.m102",
   "type": "gcloud",
   "uri": "gcr.io/deeplearning-platform-release/pytorch-gpu.1-12:m102"
  },
  "kernelspec": {
   "display_name": "Python 3 (ipykernel)",
   "language": "python",
   "name": "python3"
  },
  "language_info": {
   "codemirror_mode": {
    "name": "ipython",
    "version": 3
   },
   "file_extension": ".py",
   "mimetype": "text/x-python",
   "name": "python",
   "nbconvert_exporter": "python",
   "pygments_lexer": "ipython3",
   "version": "3.7.12"
  }
 },
 "nbformat": 4,
 "nbformat_minor": 5
}
